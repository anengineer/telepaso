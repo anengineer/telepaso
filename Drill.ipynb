{
  "nbformat": 4,
  "nbformat_minor": 0,
  "metadata": {
    "colab": {
      "name": "Untitled1.ipynb",
      "provenance": [],
      "authorship_tag": "ABX9TyM11PGcDpXuA8/P6I2kRzzb",
      "include_colab_link": true
    },
    "kernelspec": {
      "name": "python3",
      "display_name": "Python 3"
    }
  },
  "cells": [
    {
      "cell_type": "markdown",
      "metadata": {
        "id": "view-in-github",
        "colab_type": "text"
      },
      "source": [
        "<a href=\"https://colab.research.google.com/github/anengineer/telepaso/blob/master/Drill.ipynb\" target=\"_parent\"><img src=\"https://colab.research.google.com/assets/colab-badge.svg\" alt=\"Open In Colab\"/></a>"
      ]
    },
    {
      "cell_type": "code",
      "metadata": {
        "id": "pk4LC1yCa5Bx",
        "colab_type": "code",
        "colab": {}
      },
      "source": [
        ""
      ],
      "execution_count": null,
      "outputs": []
    },
    {
      "cell_type": "markdown",
      "metadata": {
        "id": "EAHgTqmka72_",
        "colab_type": "text"
      },
      "source": [
        "# ドリル\n",
        "\n",
        "## 人の動き・手やうでを使う\n",
        "\n",
        "### Q1. (  )にあてはまる言葉を選択肢から選んで、記号で答えましょう。\n",
        "#### Q1-A. 犬の頭を（　　）。\n",
        "#### Q1-B. 切手を（　　）。\n",
        "#### Q1-C. 帯を（　　）。\n",
        "#### Q1-D. ポケットの中を（　　）。\n",
        "\n",
        "\n",
        "選択肢：　ア：はがす　　イ：探る　　ウ：なでる　　エ：しめる"
      ]
    },
    {
      "cell_type": "markdown",
      "metadata": {
        "id": "2lrI694kctG1",
        "colab_type": "text"
      },
      "source": [
        "### Q2.  ( )にあてはまる言葉を選択肢から選んで、記号で答えましょう。\n",
        "#### Q2-A. 鉛筆を \n",
        "#### Q2-B. カミソリで髭を\n",
        "#### Q2-C. 木の仏像を\n",
        "#### Q2-D. 土手の草を\n",
        "\n",
        "選択肢：　　ア：そる。　　イ：かる。　　ウ：けずる。　　エ：ほる。"
      ]
    },
    {
      "cell_type": "markdown",
      "metadata": {
        "id": "yT_crgG-a61B",
        "colab_type": "text"
      },
      "source": [
        ""
      ]
    }
  ]
}